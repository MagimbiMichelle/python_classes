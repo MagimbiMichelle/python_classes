{
  "nbformat": 4,
  "nbformat_minor": 0,
  "metadata": {
    "colab": {
      "provenance": []
    },
    "kernelspec": {
      "name": "python3",
      "display_name": "Python 3"
    },
    "language_info": {
      "name": "python"
    }
  },
  "cells": [
    {
      "cell_type": "code",
      "execution_count": null,
      "metadata": {
        "colab": {
          "base_uri": "https://localhost:8080/"
        },
        "id": "knILOUQwHVuj",
        "outputId": "10456a33-9a0d-4d37-aaa1-33a6b9650ef4"
      },
      "outputs": [
        {
          "output_type": "stream",
          "name": "stdout",
          "text": [
            "Hello, World!\n"
          ]
        }
      ],
      "source": [
        "print(\"Hello, World!\") #string"
      ]
    },
    {
      "cell_type": "code",
      "source": [
        "a = 10\n",
        "b = \"Hello, World!\"\n",
        "print(a)\n",
        "print(b)"
      ],
      "metadata": {
        "colab": {
          "base_uri": "https://localhost:8080/"
        },
        "id": "15O0tL6mKgFd",
        "outputId": "00855e36-4d25-453d-b8d1-ed68d8dc4921"
      },
      "execution_count": null,
      "outputs": [
        {
          "output_type": "stream",
          "name": "stdout",
          "text": [
            "10\n",
            "Hello, World!\n"
          ]
        }
      ]
    },
    {
      "cell_type": "markdown",
      "source": [
        "Python as a calculator"
      ],
      "metadata": {
        "id": "iFKgtA3fMT2t"
      }
    },
    {
      "cell_type": "code",
      "source": [
        "2 + 2"
      ],
      "metadata": {
        "colab": {
          "base_uri": "https://localhost:8080/"
        },
        "id": "DdfzX3Z7MYfu",
        "outputId": "a44d28f2-9f1c-408c-9acc-75ccb554ee32"
      },
      "execution_count": null,
      "outputs": [
        {
          "output_type": "execute_result",
          "data": {
            "text/plain": [
              "4"
            ]
          },
          "metadata": {},
          "execution_count": 4
        }
      ]
    },
    {
      "cell_type": "code",
      "source": [
        "7/4"
      ],
      "metadata": {
        "colab": {
          "base_uri": "https://localhost:8080/"
        },
        "id": "sIiJMvm5Mg0G",
        "outputId": "f658935a-9a6e-4fad-fb66-a46065b85196"
      },
      "execution_count": null,
      "outputs": [
        {
          "output_type": "execute_result",
          "data": {
            "text/plain": [
              "1.75"
            ]
          },
          "metadata": {},
          "execution_count": 5
        }
      ]
    },
    {
      "cell_type": "code",
      "source": [
        "7 % 3"
      ],
      "metadata": {
        "colab": {
          "base_uri": "https://localhost:8080/"
        },
        "id": "30kAHAwKMogV",
        "outputId": "ebfdc20e-8afb-40c6-ac88-866a06e5855a"
      },
      "execution_count": null,
      "outputs": [
        {
          "output_type": "execute_result",
          "data": {
            "text/plain": [
              "1"
            ]
          },
          "metadata": {},
          "execution_count": 6
        }
      ]
    },
    {
      "cell_type": "code",
      "source": [
        "7 / 3"
      ],
      "metadata": {
        "colab": {
          "base_uri": "https://localhost:8080/"
        },
        "id": "Yzi9WV-sMxpJ",
        "outputId": "06a97aad-6490-4497-8364-5629c0a46208"
      },
      "execution_count": null,
      "outputs": [
        {
          "output_type": "execute_result",
          "data": {
            "text/plain": [
              "2.3333333333333335"
            ]
          },
          "metadata": {},
          "execution_count": 7
        }
      ]
    },
    {
      "cell_type": "code",
      "source": [
        "7 - 3"
      ],
      "metadata": {
        "colab": {
          "base_uri": "https://localhost:8080/"
        },
        "id": "7P7O9RKmM2eV",
        "outputId": "315ea175-3f72-4f5c-9b2b-7103bc2c9adf"
      },
      "execution_count": null,
      "outputs": [
        {
          "output_type": "execute_result",
          "data": {
            "text/plain": [
              "4"
            ]
          },
          "metadata": {},
          "execution_count": 8
        }
      ]
    },
    {
      "cell_type": "code",
      "source": [
        "2 * 3"
      ],
      "metadata": {
        "colab": {
          "base_uri": "https://localhost:8080/"
        },
        "id": "4UWQ03b3M_4Q",
        "outputId": "0a06db52-3179-4486-8af7-3c2909721690"
      },
      "execution_count": null,
      "outputs": [
        {
          "output_type": "execute_result",
          "data": {
            "text/plain": [
              "6"
            ]
          },
          "metadata": {},
          "execution_count": 9
        }
      ]
    },
    {
      "cell_type": "code",
      "source": [
        "2 ** 3 #(2*2*2)"
      ],
      "metadata": {
        "colab": {
          "base_uri": "https://localhost:8080/"
        },
        "id": "7ck-JqOmNByA",
        "outputId": "3a696d01-7635-45a2-a680-bcd85c469589"
      },
      "execution_count": null,
      "outputs": [
        {
          "output_type": "execute_result",
          "data": {
            "text/plain": [
              "8"
            ]
          },
          "metadata": {},
          "execution_count": 10
        }
      ]
    },
    {
      "cell_type": "code",
      "source": [
        " 2 / 3"
      ],
      "metadata": {
        "colab": {
          "base_uri": "https://localhost:8080/"
        },
        "id": "4H8O39gONGBZ",
        "outputId": "79e11972-8c28-4915-cb16-215b7b831a9e"
      },
      "execution_count": null,
      "outputs": [
        {
          "output_type": "execute_result",
          "data": {
            "text/plain": [
              "0.6666666666666666"
            ]
          },
          "metadata": {},
          "execution_count": 11
        }
      ]
    },
    {
      "cell_type": "code",
      "source": [
        "2 // 3"
      ],
      "metadata": {
        "colab": {
          "base_uri": "https://localhost:8080/"
        },
        "id": "m-h5CvtzNiM0",
        "outputId": "48e04e53-4550-429f-fce7-fc265d195aa1"
      },
      "execution_count": null,
      "outputs": [
        {
          "output_type": "execute_result",
          "data": {
            "text/plain": [
              "0"
            ]
          },
          "metadata": {},
          "execution_count": 12
        }
      ]
    },
    {
      "cell_type": "code",
      "source": [
        "0.1 + 0.2"
      ],
      "metadata": {
        "colab": {
          "base_uri": "https://localhost:8080/"
        },
        "id": "Zb-5HCGDNktH",
        "outputId": "7164df42-7437-4d66-ea66-1bf04ed39f7e"
      },
      "execution_count": null,
      "outputs": [
        {
          "output_type": "execute_result",
          "data": {
            "text/plain": [
              "0.30000000000000004"
            ]
          },
          "metadata": {},
          "execution_count": 13
        }
      ]
    },
    {
      "cell_type": "code",
      "source": [
        "0.3 - 0.3"
      ],
      "metadata": {
        "colab": {
          "base_uri": "https://localhost:8080/"
        },
        "id": "3WmR9RJvN7_w",
        "outputId": "ffae5265-9b65-4f82-9d7e-d1f7ec854768"
      },
      "execution_count": null,
      "outputs": [
        {
          "output_type": "execute_result",
          "data": {
            "text/plain": [
              "0.0"
            ]
          },
          "metadata": {},
          "execution_count": 14
        }
      ]
    },
    {
      "cell_type": "code",
      "source": [
        "0.1 + 0.2 - 0.3"
      ],
      "metadata": {
        "colab": {
          "base_uri": "https://localhost:8080/"
        },
        "id": "IRxXfI7BOBMk",
        "outputId": "b21b7c8c-3351-445e-dfd3-dd922a5b2b4e"
      },
      "execution_count": null,
      "outputs": [
        {
          "output_type": "execute_result",
          "data": {
            "text/plain": [
              "5.551115123125783e-17"
            ]
          },
          "metadata": {},
          "execution_count": 15
        }
      ]
    },
    {
      "cell_type": "code",
      "source": [
        "my_dogs = 2 #variables\n",
        "print(my_dogs)"
      ],
      "metadata": {
        "colab": {
          "base_uri": "https://localhost:8080/"
        },
        "id": "7lVSgzMMOJD9",
        "outputId": "2bf01e92-89d6-40e7-8f92-5f585294847d"
      },
      "execution_count": null,
      "outputs": [
        {
          "output_type": "stream",
          "name": "stdout",
          "text": [
            "2\n"
          ]
        }
      ]
    },
    {
      "cell_type": "code",
      "source": [
        "class_name = \"Auntie Claire's Python Class\"\n",
        "print(class_name)"
      ],
      "metadata": {
        "colab": {
          "base_uri": "https://localhost:8080/"
        },
        "id": "6uJa23eGPPt4",
        "outputId": "a3595f32-70ad-4e3e-eb28-05d27d189853"
      },
      "execution_count": null,
      "outputs": [
        {
          "output_type": "stream",
          "name": "stdout",
          "text": [
            "Auntie Claire's Python Class\n"
          ]
        }
      ]
    },
    {
      "cell_type": "code",
      "source": [
        "#variable\n",
        "\n",
        "my_dogs = 2\n",
        "print(my_dogs)"
      ],
      "metadata": {
        "colab": {
          "base_uri": "https://localhost:8080/"
        },
        "id": "egPn3NGaP-Nn",
        "outputId": "7f1a8a24-5e0a-4809-b973-b82f528de9c8"
      },
      "execution_count": null,
      "outputs": [
        {
          "output_type": "stream",
          "name": "stdout",
          "text": [
            "2\n"
          ]
        }
      ]
    },
    {
      "cell_type": "code",
      "source": [
        "my_dogs = ['Sammy', 'Frankie']\n",
        "print(my_dogs)"
      ],
      "metadata": {
        "colab": {
          "base_uri": "https://localhost:8080/"
        },
        "id": "hGGVWkccQAKS",
        "outputId": "00c7f6bf-3faa-4cd7-e38f-b9ae25ed2969"
      },
      "execution_count": null,
      "outputs": [
        {
          "output_type": "stream",
          "name": "stdout",
          "text": [
            "['Sammy', 'Frankie']\n"
          ]
        }
      ]
    },
    {
      "cell_type": "code",
      "source": [
        "my_dogs = ['Sammy', 'Frankie']\n",
        "print(my_dogs)"
      ],
      "metadata": {
        "colab": {
          "base_uri": "https://localhost:8080/"
        },
        "id": "1TQmES6CQeBP",
        "outputId": "1cb70d87-9c62-4ae8-9add-cc673e785e6b"
      },
      "execution_count": null,
      "outputs": [
        {
          "output_type": "stream",
          "name": "stdout",
          "text": [
            "['Sammy', 'Frankie']\n"
          ]
        }
      ]
    },
    {
      "cell_type": "code",
      "source": [
        "print(type(my_dogs))"
      ],
      "metadata": {
        "colab": {
          "base_uri": "https://localhost:8080/"
        },
        "id": "cVj1ELRYQkPi",
        "outputId": "a18ce21d-7d10-4ec3-acc2-c33e0d30c318"
      },
      "execution_count": null,
      "outputs": [
        {
          "output_type": "stream",
          "name": "stdout",
          "text": [
            "<class 'list'>\n"
          ]
        }
      ]
    },
    {
      "cell_type": "code",
      "source": [
        "my_dogs = 2\n",
        "print(type(my_dogs))"
      ],
      "metadata": {
        "colab": {
          "base_uri": "https://localhost:8080/"
        },
        "id": "nfdZV7gOQ0-i",
        "outputId": "1479d1a5-891b-4dcd-b8d6-0f0eb1d2ed24"
      },
      "execution_count": null,
      "outputs": [
        {
          "output_type": "stream",
          "name": "stdout",
          "text": [
            "<class 'int'>\n"
          ]
        }
      ]
    },
    {
      "cell_type": "code",
      "source": [
        "#String index positive\n",
        "\n",
        "character = \"Hello\"\n",
        "print(character[4])"
      ],
      "metadata": {
        "id": "tfrT0J5MRG3J",
        "colab": {
          "base_uri": "https://localhost:8080/"
        },
        "outputId": "870712b3-573b-4119-a212-d02b5132ecbc"
      },
      "execution_count": 4,
      "outputs": [
        {
          "output_type": "stream",
          "name": "stdout",
          "text": [
            "o\n"
          ]
        }
      ]
    },
    {
      "cell_type": "code",
      "source": [
        "#reverse index\n",
        "\n",
        "character = \"Hello\"\n",
        "print(character[-4])"
      ],
      "metadata": {
        "colab": {
          "base_uri": "https://localhost:8080/"
        },
        "id": "fsv9uNU7Lgcc",
        "outputId": "560c89ea-e651-4411-d212-89b08b389215"
      },
      "execution_count": 7,
      "outputs": [
        {
          "output_type": "stream",
          "name": "stdout",
          "text": [
            "e\n"
          ]
        }
      ]
    },
    {
      "cell_type": "code",
      "source": [
        "#silcing\n",
        "\n",
        "character = \"Hello\"\n",
        "print(character[::]) #starting from begining to end"
      ],
      "metadata": {
        "colab": {
          "base_uri": "https://localhost:8080/"
        },
        "id": "dN8fwW9AMHjv",
        "outputId": "49614606-4dd4-46eb-b558-dff1faa49908"
      },
      "execution_count": 9,
      "outputs": [
        {
          "output_type": "stream",
          "name": "stdout",
          "text": [
            "Hello\n"
          ]
        }
      ]
    },
    {
      "cell_type": "code",
      "source": [
        "character = \"Hello\"\n",
        "print(character[2:])  #starting from 2 to the end"
      ],
      "metadata": {
        "colab": {
          "base_uri": "https://localhost:8080/"
        },
        "id": "yMQ7HUCLMWNY",
        "outputId": "bb8d2434-ae05-4d19-f9b7-59c2cc184d64"
      },
      "execution_count": 10,
      "outputs": [
        {
          "output_type": "stream",
          "name": "stdout",
          "text": [
            "llo\n"
          ]
        }
      ]
    },
    {
      "cell_type": "code",
      "source": [
        "character = \"Hello\"\n",
        "print(character[:2]) #starting from begining to 2"
      ],
      "metadata": {
        "colab": {
          "base_uri": "https://localhost:8080/"
        },
        "id": "f1CfbJvEM30y",
        "outputId": "821f7557-ff0c-472b-ea45-f2b768ad203e"
      },
      "execution_count": 11,
      "outputs": [
        {
          "output_type": "stream",
          "name": "stdout",
          "text": [
            "He\n"
          ]
        }
      ]
    },
    {
      "cell_type": "code",
      "source": [
        "character = \"Hello\"\n",
        "print(character[1:3]) #starting from 1 to 3 middle"
      ],
      "metadata": {
        "colab": {
          "base_uri": "https://localhost:8080/"
        },
        "id": "bQCCi704NEXK",
        "outputId": "2b2efb9c-4839-47e9-e503-e2ecaf2588c7"
      },
      "execution_count": 12,
      "outputs": [
        {
          "output_type": "stream",
          "name": "stdout",
          "text": [
            "el\n"
          ]
        }
      ]
    },
    {
      "cell_type": "code",
      "source": [
        "#silcing [Start:End:Step]\n",
        "\n",
        "character = \"Hello\"\n",
        "print(character[::2]) #starting from begining to end with step 2"
      ],
      "metadata": {
        "colab": {
          "base_uri": "https://localhost:8080/"
        },
        "id": "dgeOFx0SNUJ0",
        "outputId": "bd4db9bd-4e07-4ae5-c51d-56aab9957b74"
      },
      "execution_count": 13,
      "outputs": [
        {
          "output_type": "stream",
          "name": "stdout",
          "text": [
            "Hlo\n"
          ]
        }
      ]
    },
    {
      "cell_type": "code",
      "source": [
        "character = \"Hello\"\n",
        "print(character[::-1]) #reverse string"
      ],
      "metadata": {
        "colab": {
          "base_uri": "https://localhost:8080/"
        },
        "id": "l5j60Rr3NxyH",
        "outputId": "fc92dc9c-8cd3-475e-e969-f670777c978f"
      },
      "execution_count": 14,
      "outputs": [
        {
          "output_type": "stream",
          "name": "stdout",
          "text": [
            "olleH\n"
          ]
        }
      ]
    },
    {
      "cell_type": "markdown",
      "source": [
        "**HOME WORK **\n",
        "\n",
        "\n",
        "\n",
        "\n",
        "1.   Print the name of your school  \n",
        "2. Print three words let each word be on its own line\n",
        "3. Use len to give me the size of the word ‘anaconda’\n",
        "\n",
        "B. String Slicing\n",
        "Use string slicing to grab the word ink from inside tinker\n",
        "For example ‘education’[3:6] returns ‘cat’\n",
        "Remember that when slicing you only go up to but not including the end index\n",
        "\n",
        "You should only write one line of code for this. Do not assign a variable name to the string\n",
        "\n",
        "\n",
        "C. String Indexing\n",
        "Write a string index that returns just the letter ‘r’ from ‘Hello World’\n",
        "\n",
        "For example ‘Hello World’[0] returns ‘H’\n",
        "\n",
        "You should only write one line of code for this. Do not assign a variable name to the string\n",
        "\n",
        "\n",
        "\n",
        "\n"
      ],
      "metadata": {
        "id": "M4wzYlheQ3Q7"
      }
    },
    {
      "cell_type": "markdown",
      "source": [],
      "metadata": {
        "id": "yR9C0wt6Qvle"
      }
    }
  ]
}