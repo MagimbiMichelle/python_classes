{
 "cells": [
  {
   "cell_type": "markdown",
   "metadata": {},
   "source": [
    "**HOME WORK **\n",
    "\n",
    "\n",
    "\n",
    "\n",
    "1.   Print the name of your school  \n",
    "2. Print three words let each word be on its own line\n",
    "3. Use len to give me the size of the word ‘anaconda’\n",
    "\n",
    "B. String Slicing\n",
    "Use string slicing to grab the word ink from inside tinker\n",
    "For example ‘education’[3:6] returns ‘cat’\n",
    "Remember that when slicing you only go up to but not including the end index\n",
    "\n",
    "You should only write one line of code for this. Do not assign a variable name to the string\n",
    "\n",
    "\n",
    "C. String Indexing\n",
    "Write a string index that returns just the letter ‘r’ from ‘Hello World’\n",
    "\n",
    "For example ‘Hello World’[0] returns ‘H’\n",
    "\n",
    "You should only write one line of code for this. Do not assign a variable name to the string\n",
    "\n",
    "\n",
    "\n",
    "\n"
   ]
  },
  {
   "cell_type": "code",
   "execution_count": null,
   "metadata": {},
   "outputs": [],
   "source": []
  },
  {
   "cell_type": "code",
   "execution_count": null,
   "metadata": {},
   "outputs": [],
   "source": []
  },
  {
   "cell_type": "markdown",
   "metadata": {},
   "source": []
  }
 ],
 "metadata": {
  "language_info": {
   "name": "python"
  }
 },
 "nbformat": 4,
 "nbformat_minor": 2
}
