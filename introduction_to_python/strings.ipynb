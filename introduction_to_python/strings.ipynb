{
 "cells": [
  {
   "cell_type": "markdown",
   "metadata": {},
   "source": [
    "**HOME WORK **\n",
    "\n",
    "\n",
    "\n",
    "\n",
    "1.   Print the name of your school  \n",
    "2. Print three words let each word be on its own line\n",
    "3. Use len to give me the size of the word ‘anaconda’\n",
    "\n",
    "B. String Slicing\n",
    "Use string slicing to grab the word ink from inside tinker\n",
    "For example ‘education’[3:6] returns ‘cat’\n",
    "Remember that when slicing you only go up to but not including the end index\n",
    "\n",
    "You should only write one line of code for this. Do not assign a variable name to the string\n",
    "\n",
    "\n",
    "C. String Indexing\n",
    "Write a string index that returns just the letter ‘r’ from ‘Hello World’\n",
    "\n",
    "For example ‘Hello World’[0] returns ‘H’\n",
    "\n",
    "You should only write one line of code for this. Do not assign a variable name to the string\n",
    "\n",
    "\n",
    "\n",
    "\n"
   ]
  },
  {
   "cell_type": "code",
   "execution_count": 1,
   "metadata": {},
   "outputs": [
    {
     "name": "stdout",
     "output_type": "stream",
     "text": [
      "Viva College School\n"
     ]
    }
   ],
   "source": [
    "print(\"Viva College School\")\n"
   ]
  },
  {
   "cell_type": "code",
   "execution_count": 2,
   "metadata": {},
   "outputs": [
    {
     "name": "stdout",
     "output_type": "stream",
     "text": [
      "viva\n",
      "college\n",
      "school\n"
     ]
    }
   ],
   "source": [
    "a=\"viva\"\n",
    "b=\"college\"\n",
    "c=\"school\"\n",
    "print(a)\n",
    "print(b)\n",
    "print(c)"
   ]
  },
  {
   "cell_type": "code",
   "execution_count": 6,
   "metadata": {},
   "outputs": [
    {
     "data": {
      "text/plain": [
       "8"
      ]
     },
     "execution_count": 6,
     "metadata": {},
     "output_type": "execute_result"
    }
   ],
   "source": [
    "len(\"anaconda\")"
   ]
  },
  {
   "cell_type": "code",
   "execution_count": 8,
   "metadata": {},
   "outputs": [
    {
     "data": {
      "text/plain": [
       "'ink'"
      ]
     },
     "execution_count": 8,
     "metadata": {},
     "output_type": "execute_result"
    }
   ],
   "source": [
    "(\"tinker\"[1:4])"
   ]
  },
  {
   "cell_type": "code",
   "execution_count": 11,
   "metadata": {},
   "outputs": [
    {
     "data": {
      "text/plain": [
       "'r'"
      ]
     },
     "execution_count": 11,
     "metadata": {},
     "output_type": "execute_result"
    }
   ],
   "source": [
    "('Hello World'[8])"
   ]
  },
  {
   "cell_type": "code",
   "execution_count": 13,
   "metadata": {},
   "outputs": [
    {
     "data": {
      "text/plain": [
       "'r'"
      ]
     },
     "execution_count": 13,
     "metadata": {},
     "output_type": "execute_result"
    }
   ],
   "source": [
    "(\"Hello World\"[-3])"
   ]
  }
 ],
 "metadata": {
  "kernelspec": {
   "display_name": "3.9.20",
   "language": "python",
   "name": "python3"
  },
  "language_info": {
   "codemirror_mode": {
    "name": "ipython",
    "version": 3
   },
   "file_extension": ".py",
   "mimetype": "text/x-python",
   "name": "python",
   "nbconvert_exporter": "python",
   "pygments_lexer": "ipython3",
   "version": "3.9.20"
  }
 },
 "nbformat": 4,
 "nbformat_minor": 2
}
